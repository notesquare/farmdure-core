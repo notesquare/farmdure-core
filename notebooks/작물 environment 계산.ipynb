{
 "cells": [
  {
   "cell_type": "code",
   "execution_count": null,
   "id": "2a52a1ff-595d-48c9-b521-42f57c6dfffd",
   "metadata": {},
   "outputs": [],
   "source": [
    "from pathlib import Path\n",
    "import sys\n",
    "\n",
    "lib_path = str(Path('../').resolve())\n",
    "sys.path.insert(0, lib_path)\n",
    "lib_path"
   ]
  },
  {
   "cell_type": "code",
   "execution_count": null,
   "id": "5d9895b4-3d6c-4c05-a69d-a2f3d76632e3",
   "metadata": {},
   "outputs": [],
   "source": [
    "from crops import CropModels\n",
    "from utils.weather import get_weather_df\n",
    "\n",
    "\n",
    "csv_fp = Path('../../../assets') / 'sample.csv'\n",
    "\n",
    "weather_df = get_weather_df(csv_fp)\n",
    "crop_models = {ModelClass.key: ModelClass for ModelClass in CropModels}\n"
   ]
  },
  {
   "cell_type": "markdown",
   "id": "76f9a176",
   "metadata": {},
   "source": [
    "### 고추 - 이상 화분\n",
    "> 개화전 13~17일 평균기온 30℃ 이상에서 이상화분 발생"
   ]
  },
  {
   "cell_type": "code",
   "execution_count": null,
   "id": "415c5f64",
   "metadata": {},
   "outputs": [],
   "source": [
    "crop_model = crop_models.get('chili')()\n",
    "\n",
    "crop_model.set_weather_data(weather_df)\n",
    "df = crop_model.gdd_weather_df.copy()\n",
    "\n",
    "period = 10  # 10일 마다 고온장해 확률값을 나타내는 대표값을 계산\n",
    "\n",
    "df['pollen_damaged'] = 0\n",
    "df.loc[df['tavg'] >= 30, 'pollen_damaged'] = 1  # 평균기온 30도 이상에서 이상화분\n",
    "prob_df = df.groupby((df.index - 1) // period + 1).agg({'pollen_damaged': 'mean'})  # 10일 동안 이상화분 확률값 계산\n",
    "display(prob_df['pollen_damaged'].describe())\n",
    "\n",
    "data = []\n",
    "for k, v in prob_df['pollen_damaged'].to_dict().items():\n",
    "    data.append({\n",
    "        'doy_range': (k*period - period + 1, min(k*period, 366)),\n",
    "        'prob': v\n",
    "    })\n",
    "    \n",
    "data[10:20]"
   ]
  },
  {
   "cell_type": "markdown",
   "id": "76f9a176",
   "metadata": {},
   "source": [
    "### 옥수수 - 임실률 감소\n",
    "> 고온 장해: 출웅기(출사전 6~7일) 최고기온 35℃ 초과 임실률 감소"
   ]
  },
  {
   "cell_type": "code",
   "execution_count": null,
   "id": "73d828d9",
   "metadata": {},
   "outputs": [],
   "source": [
    "crop_model = crop_models.get('corn')()\n",
    "\n",
    "crop_model.set_weather_data(weather_df)\n",
    "df = crop_model.gdd_weather_df.copy()\n",
    "\n",
    "period = 10  # 10일 마다 고온장해 확률값을 나타내는 대표값을 계산\n",
    "\n",
    "df['ripening_reduced'] = 0\n",
    "df.loc[df['tmax'] > 35, 'ripening_reduced'] = 1  # 최고기온 35도 초과에서 임실률 감소\n",
    "prob_df = df.groupby((df.index - 1) // period + 1).agg({'ripening_reduced': 'mean'})  # 10일 동안 임실률감소 확률값 계산\n",
    "display(prob_df['ripening_reduced'].describe())\n",
    "\n",
    "data = []\n",
    "for k, v in prob_df['ripening_reduced'].to_dict().items():\n",
    "    data.append({\n",
    "        'doy_range': (k*period - period + 1, min(k*period, 366)),\n",
    "        'prob': v\n",
    "    })\n",
    "    \n",
    "data[10:20]"
   ]
  },
  {
   "cell_type": "markdown",
   "id": "76f9a176",
   "metadata": {},
   "source": [
    "### 벼 - 안전출수기\n",
    "> 출수기 이후 40일 평균기온 21~24도 사이 22.5도가 최적 출수기\n",
    "<br>\n",
    "> 범위에서 벗어나 1도 차이마다 10%씩 수량감소\n"
   ]
  },
  {
   "cell_type": "code",
   "execution_count": null,
   "id": "9c34913e-1c86-4849-a048-e9b3e17f0c17",
   "metadata": {},
   "outputs": [],
   "source": [
    "# 안전출수기\n",
    "crop_model = crop_models.get('middleLateMatureRice')()\n",
    "\n",
    "crop_model.set_weather_data(weather_df)\n",
    "df = crop_model.gdd_weather_df.copy()\n",
    "\n",
    "window_size = 40  # 40 일\n",
    "\n",
    "df['40days_tavg'] = df.rolling(window_size + 1).agg({'tavg': 'mean'}).shift(-window_size)['tavg']  # 40일 동안의 평균기온\n",
    "df['heading_t_diff1'] = (df['40days_tavg'] - 21).abs()\n",
    "df['heading_t_diff2'] = (df['40days_tavg'] - 24).abs()\n",
    "df['safe_heading_prob'] = 1 - (df[['heading_t_diff1', 'heading_t_diff2']].min(axis=1) * 0.1).clip(upper=1)  # 21 ~ 24도 에서 1도차이 마다 확률 10% 감소\n",
    "df['safe_heading_prob'] = df['safe_heading_prob'].round(2)\n",
    "\n",
    "_df = df[['safe_heading_prob']].iloc[:366]\n",
    "display(_df)\n",
    "\n",
    "period = 10  # 10일 마다 안전출수확를의 대표값을 확보\n",
    "\n",
    "prob_df = _df.groupby((_df.index - 1) // period + 1).mean()  # 10일 동안 안전출수확률 평균값 계산\n",
    "prob_df = prob_df.round(2)\n",
    "\n",
    "data = []\n",
    "for k, v in prob_df['safe_heading_prob'].to_dict().items():\n",
    "    data.append({\n",
    "        'doy_range': (k*period - period + 1, min(k*period, 366)),\n",
    "        'prob': v\n",
    "    })\n",
    "    \n",
    "data[10:20]"
   ]
  },
  {
   "cell_type": "markdown",
   "id": "76f9a176",
   "metadata": {},
   "source": [
    "### 감자 - 비대정지\n",
    "> 고온피해: 덩이줄기 비대기(정식 30일 후 ~ 수확 10일전) 최고기온 27~30℃ 덩이줄기 비대 정지\n"
   ]
  },
  {
   "cell_type": "code",
   "execution_count": null,
   "id": "a789d010",
   "metadata": {},
   "outputs": [],
   "source": [
    "crop_model = crop_models.get('potato')()\n",
    "\n",
    "crop_model.set_weather_data(weather_df)\n",
    "df = crop_model.gdd_weather_df.copy()\n",
    "\n",
    "period = 10  # 10일 마다 고온장해 확률값을 나타내는 대표값을 계산\n",
    "\n",
    "df['growth_stopped'] = 0\n",
    "df.loc[\n",
    "  (df['tmax'] >= 27) & (df['tmax'] <= 30), \n",
    "  'growth_stopped'\n",
    "] = 1  # 최고기온 27~30도에서 감자 비대정지\n",
    "prob_df = df.groupby((df.index - 1) // period + 1).agg({'growth_stopped': 'mean'})  # 10일 동안 비대정지 확률값 계산\n",
    "display(prob_df['growth_stopped'].describe())\n",
    "\n",
    "data = []\n",
    "for k, v in prob_df['growth_stopped'].to_dict().items():\n",
    "    data.append({\n",
    "        'doy_range': (k*period - period + 1, min(k*period, 366)),\n",
    "        'prob': v\n",
    "    })\n",
    "    \n",
    "data[10:20]"
   ]
  },
  {
   "cell_type": "markdown",
   "id": "76f9a176",
   "metadata": {},
   "source": [
    "### 마늘 - 생육정지\n",
    "> 고온 피해: 쪽 분화 ~ 수확전 25℃ 이상에서 생육정지\n",
    "<br>\n",
    "> 쪽분화 1월21일~3월 21일"
   ]
  },
  {
   "cell_type": "code",
   "execution_count": null,
   "id": "320c4b10",
   "metadata": {},
   "outputs": [],
   "source": [
    "crop_model = crop_models.get('garlic')()\n",
    "\n",
    "crop_model.set_weather_data(weather_df)\n",
    "df = crop_model.gdd_weather_df.copy()\n",
    "\n",
    "period = 10  # 10일 마다 고온장해 확률값을 나타내는 대표값을 계산\n",
    "\n",
    "df['develop_stopped'] = 0\n",
    "df.loc[df['tmax'] >= 25, 'develop_stopped'] = 1  # 최고기온 25도 이상에서 마늘 생육정지\n",
    "prob_df = df.groupby((df.index - 1) // period + 1).agg({'develop_stopped': 'mean'})  # 10일 동안 비대정지 확률값 계산\n",
    "display(prob_df['develop_stopped'].describe())\n",
    "\n",
    "data = []\n",
    "for k, v in prob_df['develop_stopped'].to_dict().items():\n",
    "    data.append({\n",
    "        'doy_range': (k*period - period + 1, min(k*period, 366)),\n",
    "        'prob': v\n",
    "    })\n",
    "    \n",
    "data[10:20]"
   ]
  },
  {
   "cell_type": "markdown",
   "id": "76f9a176",
   "metadata": {},
   "source": [
    "### 양파 - 생육둔화\n",
    "> 고온 피해: 구비대기 (수확40일전) 25℃ 이상에서 생육둔화"
   ]
  },
  {
   "cell_type": "code",
   "execution_count": null,
   "id": "320c4b10",
   "metadata": {},
   "outputs": [],
   "source": [
    "crop_model = crop_models.get('onion')()\n",
    "\n",
    "crop_model.set_weather_data(weather_df)\n",
    "df = crop_model.gdd_weather_df.copy()\n",
    "\n",
    "period = 10  # 10일 마다 고온장해 확률값을 나타내는 대표값을 계산\n",
    "\n",
    "df['develop_slowed'] = 0\n",
    "df.loc[df['tmax'] >= 25, 'develop_slowed'] = 1  # 최고기온 25도 이상에서 양파 생육정지\n",
    "prob_df = df.groupby((df.index - 1) // period + 1).agg({'develop_slowed': 'mean'})  # 10일 동안 비대정지 확률값 계산\n",
    "display(prob_df['develop_slowed'].describe())\n",
    "\n",
    "data = []\n",
    "for k, v in prob_df['develop_slowed'].to_dict().items():\n",
    "    data.append({\n",
    "        'doy_range': (k*period - period + 1, min(k*period, 366)),\n",
    "        'prob': v\n",
    "    })\n",
    "    \n",
    "data[10:20]"
   ]
  },
  {
   "cell_type": "markdown",
   "id": "76f9a176",
   "metadata": {},
   "source": [
    "### 참깨 - 조기 낙화\n",
    "> 고온피해: 개화기 40℃ 이상 고온 조기낙화 등숙률 저하"
   ]
  },
  {
   "cell_type": "code",
   "execution_count": null,
   "id": "320c4b10",
   "metadata": {},
   "outputs": [],
   "source": [
    "crop_model = crop_models.get('sesame')()\n",
    "\n",
    "crop_model.set_weather_data(weather_df)\n",
    "df = crop_model.gdd_weather_df.copy()\n",
    "\n",
    "period = 10  # 10일 마다 고온장해 확률값을 나타내는 대표값을 계산\n",
    "\n",
    "df['premature_abscission'] = 0\n",
    "df.loc[df['tmax'] >= 40, 'premature_abscission'] = 1  # 최고기온 40도 이상에서 참깨 조기낙화\n",
    "prob_df = df.groupby((df.index - 1) // period + 1).agg({'premature_abscission': 'mean'})  # 10일 동안 비대정지 확률값 계산\n",
    "display(prob_df['premature_abscission'].describe())\n",
    "\n",
    "data = []\n",
    "for k, v in prob_df['premature_abscission'].to_dict().items():\n",
    "    data.append({\n",
    "        'doy_range': (k*period - period + 1, min(k*period, 366)),\n",
    "        'prob': v\n",
    "    })\n",
    "    \n",
    "data[10:20]"
   ]
  },
  {
   "cell_type": "code",
   "execution_count": null,
   "id": "318e5ad1",
   "metadata": {},
   "outputs": [],
   "source": []
  }
 ],
 "metadata": {
  "interpreter": {
   "hash": "ba66a616c41e1bc55c5eba670c51bbf3d61e8805730659f6518054edaac0799d"
  },
  "kernelspec": {
   "display_name": "Python 3.9.7 ('doctordure_scheduler')",
   "language": "python",
   "name": "python3"
  },
  "language_info": {
   "codemirror_mode": {
    "name": "ipython",
    "version": 3
   },
   "file_extension": ".py",
   "mimetype": "text/x-python",
   "name": "python",
   "nbconvert_exporter": "python",
   "pygments_lexer": "ipython3",
   "version": "3.9.7"
  },
  "widgets": {
   "application/vnd.jupyter.widget-state+json": {
    "state": {},
    "version_major": 2,
    "version_minor": 0
   }
  }
 },
 "nbformat": 4,
 "nbformat_minor": 5
}
