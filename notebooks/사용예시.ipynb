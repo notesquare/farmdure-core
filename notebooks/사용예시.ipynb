{
 "cells": [
  {
   "cell_type": "code",
   "execution_count": 1,
   "id": "a7a6bb63",
   "metadata": {},
   "outputs": [],
   "source": [
    "# # 소스코드 다운받기\n",
    "# !git clone https://github.com/notesquare/drd-agri-cropscheduler.git"
   ]
  },
  {
   "cell_type": "code",
   "execution_count": 2,
   "id": "25e17386",
   "metadata": {},
   "outputs": [],
   "source": [
    "# # 패키지 설치하기\n",
    "# !pip install farmdurecore"
   ]
  },
  {
   "cell_type": "code",
   "execution_count": 3,
   "id": "f5dbae2d",
   "metadata": {},
   "outputs": [],
   "source": [
    "try:\n",
    "    import farmdurecore\n",
    "except ImportError:\n",
    "    import sys\n",
    "\n",
    "    sys.path.append('../')"
   ]
  },
  {
   "attachments": {},
   "cell_type": "markdown",
   "id": "40d18608",
   "metadata": {},
   "source": [
    "### 작물 모델 목록"
   ]
  },
  {
   "cell_type": "code",
   "execution_count": 4,
   "id": "5d9895b4-3d6c-4c05-a69d-a2f3d76632e3",
   "metadata": {},
   "outputs": [
    {
     "data": {
      "text/plain": [
       "{'middleLateMatureRice': '중만생종 벼',\n",
       " 'middleMatureRice': '중생종 벼',\n",
       " 'earlyMatureRice': '조생종 벼',\n",
       " 'springCabbage': '봄배추',\n",
       " 'autumnCabbage': '가을배추',\n",
       " 'chili': '고추',\n",
       " 'wheat': '밀',\n",
       " 'corn': '옥수수',\n",
       " 'barley': '보리',\n",
       " 'sweetPotato': '고구마',\n",
       " 'potato': '감자',\n",
       " 'onion': '양파',\n",
       " 'garlic': '마늘',\n",
       " 'radish': '무',\n",
       " 'adzuki': '팥',\n",
       " 'sesame': '참깨',\n",
       " 'bean': '콩'}"
      ]
     },
     "execution_count": 4,
     "metadata": {},
     "output_type": "execute_result"
    }
   ],
   "source": [
    "from farmdurecore.crops import CropModels\n",
    "\n",
    "crop_models = {ModelClass.key: ModelClass for ModelClass in CropModels}\n",
    "{model.key: model.name for model in crop_models.values()}"
   ]
  },
  {
   "attachments": {},
   "cell_type": "markdown",
   "id": "55cf1b2b",
   "metadata": {},
   "source": [
    "### 작물 선택 & 기본정보 확인"
   ]
  },
  {
   "cell_type": "code",
   "execution_count": 5,
   "id": "ffa63586",
   "metadata": {},
   "outputs": [
    {
     "data": {
      "text/plain": [
       "기본정보 \n",
       "                작물키: chili\n",
       "                작물명: 고추\n",
       "                GDD 계산법: m2\n",
       "                기준온도: 5\n",
       "                고온한계: 35\n",
       "GDD 기반 조건 \n",
       "                구분: 정식\n",
       "                GDD 값: 0\n",
       "                기간제한: \n",
       "                상세내용: \n",
       "                카테고리: ['생육단계', '농작업일정']\n",
       "            \n",
       "                구분: 개화\n",
       "                GDD 값: 150 ~ 1950\n",
       "                기간제한: \n",
       "                상세내용: \n",
       "                카테고리: \n",
       "            \n",
       "                구분: 풋고추 수확\n",
       "                GDD 값: 550 ~ 1070\n",
       "                기간제한: 최대 30일\n",
       "                상세내용: \n",
       "                카테고리: ['생육단계', '농작업일정']\n",
       "            \n",
       "                구분: 붉은고추 수확\n",
       "                GDD 값: 1085 ~ 2730\n",
       "                기간제한: 최대 80일\n",
       "                상세내용: \n",
       "                카테고리: ['생육단계', '농작업일정']\n",
       "            \n",
       "날짜 기반 조건 \n",
       "                구분: 파종\n",
       "                기준일: 정식 65일 전\n",
       "                기간제한: \n",
       "                상세내용: \n",
       "                카테고리: ['생육단계', '농작업일정']\n",
       "            \n",
       "                구분: 기비\n",
       "                기준일: 정식 21일 전 ~ 정식 14일 전\n",
       "                기간제한: \n",
       "                상세내용: 흙갈이 하기 2~3주 전 석회, 붕소 비료를 투여\n",
       "                카테고리: ['농작업일정']\n",
       "            \n",
       "                구분: 기비\n",
       "                기준일: 정식 7일 전\n",
       "                기간제한: \n",
       "                상세내용: 이랑 만들기 7일 전 화학비료 투여\n",
       "                카테고리: ['농작업일정']\n",
       "            \n",
       "                구분: 추비 1차\n",
       "                기준일: 정식 25일 후 ~ 정식 30일 후\n",
       "                기간제한: \n",
       "                상세내용: \n",
       "                카테고리: ['농작업일정']\n",
       "            \n",
       "                구분: 추비 2차\n",
       "                기준일: 정식 50일 후 ~ 정식 60일 후\n",
       "                기간제한: \n",
       "                상세내용: \n",
       "                카테고리: ['농작업일정']\n",
       "            \n",
       "                구분: 추비 3차\n",
       "                기준일: 정식 75일 후 ~ 정식 90일 후\n",
       "                기간제한: \n",
       "                상세내용: \n",
       "                카테고리: ['농작업일정']\n",
       "            \n",
       "경고 표시 조건 \n",
       "                방식: 한계온도 노출일수\n",
       "                구분: 고온해\n",
       "                상세내용: 40℃ 이상(초과) 5일 이상 노출\n",
       "            \n",
       "                방식: 한계온도 노출일수\n",
       "                구분: 동해\n",
       "                상세내용: 10℃ 이하(미만) 30일 이상 노출\n",
       "            \n",
       "                방식: 특정생육기 온도조건\n",
       "                구분: 수확량 감소\n",
       "                상세내용: 개화 13일 전 ~ 개화 17일 전 때 평균기온 30℃ 이상\n",
       "            "
      ]
     },
     "execution_count": 5,
     "metadata": {},
     "output_type": "execute_result"
    }
   ],
   "source": [
    "from farmdurecore.utils.helper import get_default_crop_params\n",
    "\n",
    "\n",
    "# Select crop model\n",
    "crop_key = 'chili'\n",
    "_crop_model = crop_models[crop_key]\n",
    "crop_params = get_default_crop_params(crop_key)\n",
    "\n",
    "# Set default parameter\n",
    "crop_model = _crop_model()\n",
    "crop_model.set_parameters(crop_params)\n",
    "crop_model"
   ]
  },
  {
   "cell_type": "code",
   "execution_count": 6,
   "metadata": {},
   "outputs": [],
   "source": [
    "# TEST\n",
    "\n",
    "# for _crop_model in crop_models.values():\n",
    "#     crop_model = _crop_model()\n",
    "#     crop_key = crop_model.key\n",
    "#     crop_params = get_default_crop_params(crop_key)\n",
    "#     crop_model.set_parameters(crop_params)\n",
    "#     print(crop_model)"
   ]
  },
  {
   "attachments": {},
   "cell_type": "markdown",
   "id": "c34c7e3f",
   "metadata": {},
   "source": [
    "### 시뮬레이션"
   ]
  },
  {
   "cell_type": "code",
   "execution_count": 7,
   "id": "e35ff1b6",
   "metadata": {},
   "outputs": [],
   "source": [
    "from farmdurecore.utils.weather import get_sample_weather_data\n",
    "\n",
    "\n",
    "sample_weather_data = get_sample_weather_data()\n",
    "crop_model.set_weather_data(sample_weather_data)"
   ]
  },
  {
   "cell_type": "code",
   "execution_count": 8,
   "id": "1d3f8b41",
   "metadata": {},
   "outputs": [
    {
     "name": "stdout",
     "output_type": "stream",
     "text": [
      "[{'type': 'growth_range', 'name': '재배기간', 'ranged': True, 'doy': [50, 160]}, {'type': 'transplant', 'name': '정식', 'doy': 50, 'ranged': False, 'text': ''}, {'type': 'harvest', 'name': '풋고추 수확', 'doy': [128, 158], 'ranged': True, 'text': ''}, {'type': 'harvest', 'name': '붉은고추 수확', 'doy': [161, 233], 'ranged': True, 'text': ''}, {'type': 'sow', 'name': '파종', 'doy': -15, 'ranged': False, 'text': ''}]\n",
      "[{'type': 'transplant', 'name': '정식', 'doy': 50, 'ranged': False, 'text': ''}, {'type': 'harvest', 'name': '풋고추 수확', 'doy': [128, 158], 'ranged': True, 'text': ''}, {'type': 'harvest', 'name': '붉은고추 수확', 'doy': [161, 233], 'ranged': True, 'text': ''}, {'type': 'sow', 'name': '파종', 'doy': -15, 'ranged': False, 'text': ''}, {'type': 'fertilize', 'name': '기비', 'doy': [29, 36], 'ranged': True, 'text': '흙갈이 하기 2~3주 전 석회, 붕소 비료를 투여'}, {'type': 'fertilize', 'name': '기비', 'doy': 43, 'ranged': False, 'text': '이랑 만들기 7일 전 화학비료 투여'}, {'type': 'fertilize', 'name': '추비 1차', 'doy': [75, 80], 'ranged': True, 'text': ''}, {'type': 'fertilize', 'name': '추비 2차', 'doy': [100, 110], 'ranged': True, 'text': ''}, {'type': 'fertilize', 'name': '추비 3차', 'doy': [125, 140], 'ranged': True, 'text': ''}]\n",
      "[{'title': '재배가능성 낮음', 'type': '동해 위험', 'message': '생육한계 최저온도 10℃ 미만의 온도에 연속 30일 이상 노출된 년도의 수가 전체 기상자료의 30% 이상입니다.'}]\n"
     ]
    }
   ],
   "source": [
    "crop_model.set_start_doy(50)\n",
    "\n",
    "print(crop_model.events)\n",
    "print(crop_model.schedules)\n",
    "print(crop_model.warnings)"
   ]
  },
  {
   "attachments": {},
   "cell_type": "markdown",
   "id": "f67aeaff",
   "metadata": {},
   "source": [
    "### 작물 파라메터 변경"
   ]
  },
  {
   "cell_type": "code",
   "execution_count": 9,
   "id": "61e2592c",
   "metadata": {},
   "outputs": [
    {
     "data": {
      "text/plain": [
       "[{'type': 'base_temperature', 'value': 5, 'editable': True},\n",
       " {'type': 'max_dev_temperature', 'value': 35, 'editable': True},\n",
       " {'type': 'gdd_method', 'value': 'm2', 'editable': True},\n",
       " {'type': 'transplant',\n",
       "  'name': '정식',\n",
       "  'value': 0,\n",
       "  'text': '',\n",
       "  'expose_to': ['events', 'schedules'],\n",
       "  'editable': True},\n",
       " {'type': 'bloom',\n",
       "  'name': '개화',\n",
       "  'value': [150, 1950],\n",
       "  'ranged': True,\n",
       "  'text': '',\n",
       "  'expose_to': [],\n",
       "  'editable': True},\n",
       " {'type': 'harvest',\n",
       "  'name': '풋고추 수확',\n",
       "  'ranged': True,\n",
       "  'value': [550, 1070],\n",
       "  'period': 30,\n",
       "  'text': '',\n",
       "  'expose_to': ['events', 'schedules'],\n",
       "  'editable': True},\n",
       " {'type': 'harvest',\n",
       "  'name': '붉은고추 수확',\n",
       "  'ranged': True,\n",
       "  'value': [1085, 2730],\n",
       "  'period': 80,\n",
       "  'text': '',\n",
       "  'expose_to': ['events', 'schedules'],\n",
       "  'editable': True},\n",
       " {'type': 'sow',\n",
       "  'name': '파종',\n",
       "  'ref': ['transplant'],\n",
       "  'value': [-65],\n",
       "  'text': '',\n",
       "  'expose_to': ['events', 'schedules'],\n",
       "  'editable': False},\n",
       " {'type': 'fertilize',\n",
       "  'name': '기비',\n",
       "  'ref': ['transplant', 'transplant'],\n",
       "  'value': [-21, -14],\n",
       "  'text': '흙갈이 하기 2~3주 전 석회, 붕소 비료를 투여',\n",
       "  'expose_to': ['schedules'],\n",
       "  'editable': False},\n",
       " {'type': 'fertilize',\n",
       "  'name': '기비',\n",
       "  'ref': ['transplant'],\n",
       "  'value': [-7],\n",
       "  'text': '이랑 만들기 7일 전 화학비료 투여',\n",
       "  'expose_to': ['schedules'],\n",
       "  'editable': False},\n",
       " {'type': 'fertilize',\n",
       "  'name': '추비 1차',\n",
       "  'ref': ['transplant', 'transplant'],\n",
       "  'value': [25, 30],\n",
       "  'text': '',\n",
       "  'expose_to': ['schedules'],\n",
       "  'editable': False},\n",
       " {'type': 'fertilize',\n",
       "  'name': '추비 2차',\n",
       "  'ref': ['transplant', 'transplant'],\n",
       "  'value': [50, 60],\n",
       "  'text': '',\n",
       "  'expose_to': ['schedules'],\n",
       "  'editable': False},\n",
       " {'type': 'fertilize',\n",
       "  'name': '추비 3차',\n",
       "  'ref': ['transplant', 'transplant'],\n",
       "  'value': [75, 90],\n",
       "  'text': '',\n",
       "  'expose_to': ['schedules'],\n",
       "  'editable': False}]"
      ]
     },
     "execution_count": 9,
     "metadata": {},
     "output_type": "execute_result"
    }
   ],
   "source": [
    "crop_model.parameters"
   ]
  },
  {
   "cell_type": "code",
   "execution_count": 10,
   "id": "fb3656d5",
   "metadata": {},
   "outputs": [
    {
     "name": "stdout",
     "output_type": "stream",
     "text": [
      "기본정보 \n",
      "                작물키: chili\n",
      "                작물명: 고추\n",
      "                GDD 계산법: m3\n",
      "                기준온도: 10\n",
      "                고온한계: 35\n",
      "GDD 기반 조건 \n",
      "                구분: 정식\n",
      "                GDD 값: 0\n",
      "                기간제한: \n",
      "                상세내용: \n",
      "                카테고리: ['생육단계', '농작업일정']\n",
      "            \n",
      "                구분: 개화\n",
      "                GDD 값: 150 ~ 1950\n",
      "                기간제한: \n",
      "                상세내용: \n",
      "                카테고리: \n",
      "            \n",
      "                구분: 풋고추 수확\n",
      "                GDD 값: 550 ~ 1070\n",
      "                기간제한: 최대 30일\n",
      "                상세내용: \n",
      "                카테고리: ['생육단계', '농작업일정']\n",
      "            \n",
      "                구분: 붉은고추 수확\n",
      "                GDD 값: 1085 ~ 2730\n",
      "                기간제한: 최대 80일\n",
      "                상세내용: \n",
      "                카테고리: ['생육단계', '농작업일정']\n",
      "            \n",
      "날짜 기반 조건 \n",
      "                구분: 파종\n",
      "                기준일: 정식 65일 전\n",
      "                기간제한: \n",
      "                상세내용: \n",
      "                카테고리: ['생육단계', '농작업일정']\n",
      "            \n",
      "                구분: 기비\n",
      "                기준일: 정식 21일 전 ~ 정식 14일 전\n",
      "                기간제한: \n",
      "                상세내용: 흙갈이 하기 2~3주 전 석회, 붕소 비료를 투여\n",
      "                카테고리: ['농작업일정']\n",
      "            \n",
      "                구분: 기비\n",
      "                기준일: 정식 7일 전\n",
      "                기간제한: \n",
      "                상세내용: 이랑 만들기 7일 전 화학비료 투여\n",
      "                카테고리: ['농작업일정']\n",
      "            \n",
      "                구분: 추비 1차\n",
      "                기준일: 정식 25일 후 ~ 정식 30일 후\n",
      "                기간제한: \n",
      "                상세내용: \n",
      "                카테고리: ['농작업일정']\n",
      "            \n",
      "                구분: 추비 2차\n",
      "                기준일: 정식 50일 후 ~ 정식 60일 후\n",
      "                기간제한: \n",
      "                상세내용: \n",
      "                카테고리: ['농작업일정']\n",
      "            \n",
      "                구분: 추비 3차\n",
      "                기준일: 정식 75일 후 ~ 정식 90일 후\n",
      "                기간제한: \n",
      "                상세내용: \n",
      "                카테고리: ['농작업일정']\n",
      "            \n",
      "경고 표시 조건 \n",
      "                방식: 한계온도 노출일수\n",
      "                구분: 고온해\n",
      "                상세내용: 40℃ 이상(초과) 5일 이상 노출\n",
      "            \n",
      "                방식: 한계온도 노출일수\n",
      "                구분: 동해\n",
      "                상세내용: 10℃ 이하(미만) 30일 이상 노출\n",
      "            \n",
      "                방식: 특정생육기 온도조건\n",
      "                구분: 수확량 감소\n",
      "                상세내용: 개화 13일 전 ~ 개화 17일 전 때 평균기온 30℃ 이상\n",
      "            \n",
      "\n",
      "[{'type': 'growth_range', 'name': '재배기간', 'ranged': True, 'doy': [50, 160]}, {'type': 'transplant', 'name': '정식', 'doy': 50, 'ranged': False, 'text': ''}, {'type': 'harvest', 'name': '풋고추 수확', 'doy': [128, 158], 'ranged': True, 'text': ''}, {'type': 'harvest', 'name': '붉은고추 수확', 'doy': [161, 233], 'ranged': True, 'text': ''}, {'type': 'sow', 'name': '파종', 'doy': -15, 'ranged': False, 'text': ''}]\n",
      "[{'type': 'transplant', 'name': '정식', 'doy': 50, 'ranged': False, 'text': ''}, {'type': 'harvest', 'name': '풋고추 수확', 'doy': [128, 158], 'ranged': True, 'text': ''}, {'type': 'harvest', 'name': '붉은고추 수확', 'doy': [161, 233], 'ranged': True, 'text': ''}, {'type': 'sow', 'name': '파종', 'doy': -15, 'ranged': False, 'text': ''}, {'type': 'fertilize', 'name': '기비', 'doy': [29, 36], 'ranged': True, 'text': '흙갈이 하기 2~3주 전 석회, 붕소 비료를 투여'}, {'type': 'fertilize', 'name': '기비', 'doy': 43, 'ranged': False, 'text': '이랑 만들기 7일 전 화학비료 투여'}, {'type': 'fertilize', 'name': '추비 1차', 'doy': [75, 80], 'ranged': True, 'text': ''}, {'type': 'fertilize', 'name': '추비 2차', 'doy': [100, 110], 'ranged': True, 'text': ''}, {'type': 'fertilize', 'name': '추비 3차', 'doy': [125, 140], 'ranged': True, 'text': ''}]\n",
      "[{'title': '재배가능성 낮음', 'type': '동해 위험', 'message': '생육한계 최저온도 10℃ 미만의 온도에 연속 30일 이상 노출된 년도의 수가 전체 기상자료의 30% 이상입니다.'}]\n"
     ]
    }
   ],
   "source": [
    "crop_model.update_parameters([\n",
    "    {\n",
    "        'type': 'harvest',\n",
    "        'name': '수확',\n",
    "        'value': [601, 650],\n",
    "        'ranged': True,\n",
    "        'text': '',\n",
    "        'expose_to': ['events', 'schedules']\n",
    "    },\n",
    "    {'type': 'base_temperature', 'value': 10},\n",
    "    {'type': 'gdd_method', 'value': 'm3'}\n",
    "])\n",
    "\n",
    "print(crop_model)\n",
    "print(crop_model.events)\n",
    "print(crop_model.schedules)\n",
    "print(crop_model.warnings)"
   ]
  },
  {
   "cell_type": "code",
   "execution_count": null,
   "id": "ccc466a2",
   "metadata": {},
   "outputs": [],
   "source": []
  }
 ],
 "metadata": {
  "interpreter": {
   "hash": "ba66a616c41e1bc55c5eba670c51bbf3d61e8805730659f6518054edaac0799d"
  },
  "kernelspec": {
   "display_name": "Python 3.9.7 ('doctordure_scheduler')",
   "language": "python",
   "name": "python3"
  },
  "language_info": {
   "codemirror_mode": {
    "name": "ipython",
    "version": 3
   },
   "file_extension": ".py",
   "mimetype": "text/x-python",
   "name": "python",
   "nbconvert_exporter": "python",
   "pygments_lexer": "ipython3",
   "version": "3.8.17"
  },
  "widgets": {
   "application/vnd.jupyter.widget-state+json": {
    "state": {},
    "version_major": 2,
    "version_minor": 0
   }
  }
 },
 "nbformat": 4,
 "nbformat_minor": 5
}
