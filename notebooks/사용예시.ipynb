{
 "cells": [
  {
   "cell_type": "code",
   "execution_count": 10,
   "id": "a41e486d",
   "metadata": {},
   "outputs": [
    {
     "name": "stdout",
     "output_type": "stream",
     "text": [
      "\u001b[31mERROR: Could not find a version that satisfies the requirement farmdurecore (from versions: none)\u001b[0m\u001b[31m\n",
      "\u001b[0m\u001b[31mERROR: No matching distribution found for farmdurecore\u001b[0m\u001b[31m\n",
      "\u001b[0m"
     ]
    }
   ],
   "source": [
    "# \n",
    "import sys\n",
    "\n",
    "sys.path.append('../')\n"
   ]
  },
  {
   "cell_type": "code",
   "execution_count": null,
   "id": "65670eaf",
   "metadata": {},
   "outputs": [],
   "source": [
    "\n",
    "#\n",
    "!pip install farmdurecore"
   ]
  },
  {
   "attachments": {},
   "cell_type": "markdown",
   "id": "40d18608",
   "metadata": {},
   "source": [
    "### 작물 모델 목록"
   ]
  },
  {
   "cell_type": "code",
   "execution_count": 7,
   "id": "5d9895b4-3d6c-4c05-a69d-a2f3d76632e3",
   "metadata": {},
   "outputs": [
    {
     "data": {
      "text/plain": [
       "{'middleLateMatureRice': '중만생종 벼',\n",
       " 'middleMatureRice': '중생종 벼',\n",
       " 'earlyMatureRice': '조생종 벼',\n",
       " 'springCabbage': '봄배추',\n",
       " 'autumnCabbage': '가을배추',\n",
       " 'chili': '고추',\n",
       " 'wheat': '밀',\n",
       " 'corn': '옥수수',\n",
       " 'barley': '보리',\n",
       " 'sweetPotato': '고구마',\n",
       " 'potato': '감자',\n",
       " 'onion': '양파',\n",
       " 'garlic': '마늘',\n",
       " 'radish': '무',\n",
       " 'adzuki': '팥',\n",
       " 'sesame': '참깨',\n",
       " 'bean': '콩'}"
      ]
     },
     "execution_count": 7,
     "metadata": {},
     "output_type": "execute_result"
    }
   ],
   "source": [
    "from farmdurecore.crops import CropModels\n",
    "\n",
    "crop_models = {ModelClass.key: ModelClass for ModelClass in CropModels}\n",
    "{model.key: model.name for model in crop_models.values()}"
   ]
  },
  {
   "attachments": {},
   "cell_type": "markdown",
   "id": "55cf1b2b",
   "metadata": {},
   "source": [
    "### 작물 선택 & 기본정보 확인"
   ]
  },
  {
   "cell_type": "code",
   "execution_count": 8,
   "id": "ffa63586",
   "metadata": {},
   "outputs": [
    {
     "data": {
      "text/plain": [
       "기본정보 \n",
       "                작물키: chili\n",
       "                작물명: 고추\n",
       "                GDD 계산법: m2\n",
       "                기준온도: 5\n",
       "                고온한계: 35\n",
       "GDD 기반 조건 \n",
       "                구분: 정식\n",
       "                GDD 값: 0\n",
       "                기간제한: \n",
       "                상세내용: \n",
       "                카테고리: ['생육단계', '농작업일정']\n",
       "            \n",
       "                구분: 개화\n",
       "                GDD 값: 150 ~ 1950\n",
       "                기간제한: \n",
       "                상세내용: \n",
       "                카테고리: \n",
       "            \n",
       "                구분: 풋고추 수확\n",
       "                GDD 값: 550 ~ 1070\n",
       "                기간제한: 최대 30일\n",
       "                상세내용: \n",
       "                카테고리: ['생육단계', '농작업일정']\n",
       "            \n",
       "                구분: 붉은고추 수확\n",
       "                GDD 값: 1085 ~ 2730\n",
       "                기간제한: 최대 80일\n",
       "                상세내용: \n",
       "                카테고리: ['생육단계', '농작업일정']\n",
       "            \n",
       "날짜 기반 조건 \n",
       "                구분: 파종\n",
       "                기준일: 정식 65일 전\n",
       "                기간제한: \n",
       "                상세내용: \n",
       "                카테고리: ['생육단계', '농작업일정']\n",
       "            \n",
       "                구분: 기비\n",
       "                기준일: 정식 21일 전 ~ 정식 14일 전\n",
       "                기간제한: \n",
       "                상세내용: 흙갈이 하기 2~3주 전 석회, 붕소 비료를 투여\n",
       "                카테고리: ['농작업일정']\n",
       "            \n",
       "                구분: 기비\n",
       "                기준일: 정식 7일 전\n",
       "                기간제한: \n",
       "                상세내용: 이랑 만들기 7일 전 화학비료 투여\n",
       "                카테고리: ['농작업일정']\n",
       "            \n",
       "                구분: 추비 1차\n",
       "                기준일: 정식 25일 후 ~ 정식 30일 후\n",
       "                기간제한: \n",
       "                상세내용: \n",
       "                카테고리: ['농작업일정']\n",
       "            \n",
       "                구분: 추비 2차\n",
       "                기준일: 정식 50일 후 ~ 정식 60일 후\n",
       "                기간제한: \n",
       "                상세내용: \n",
       "                카테고리: ['농작업일정']\n",
       "            \n",
       "                구분: 추비 3차\n",
       "                기준일: 정식 75일 후 ~ 정식 90일 후\n",
       "                기간제한: \n",
       "                상세내용: \n",
       "                카테고리: ['농작업일정']\n",
       "            \n",
       "경고 표시 조건 \n",
       "                방식: 한계온도 노출일수\n",
       "                구분: 고온해\n",
       "                상세내용: 40℃ 이상(초과) 5일 이상 노출\n",
       "            \n",
       "                방식: 한계온도 노출일수\n",
       "                구분: 동해\n",
       "                상세내용: 10℃ 이하(미만) 30일 이상 노출\n",
       "            \n",
       "                방식: 특정생육기 온도조건\n",
       "                구분: 수확량 감소\n",
       "                상세내용: 개화 13일 전 ~ 개화 17일 전 때 평균기온 30℃ 이상\n",
       "            "
      ]
     },
     "execution_count": 8,
     "metadata": {},
     "output_type": "execute_result"
    }
   ],
   "source": [
    "from farmdurecore.utils.helper import get_default_crop_params\n",
    "\n",
    "\n",
    "# Select crop model\n",
    "crop_key = 'chili'\n",
    "_crop_model = crop_models[crop_key]\n",
    "crop_params = get_default_crop_params(crop_key)\n",
    "\n",
    "# Set default parameter\n",
    "crop_model = _crop_model()\n",
    "crop_model.set_parameters(crop_params)\n",
    "crop_model"
   ]
  },
  {
   "cell_type": "code",
   "execution_count": 9,
   "metadata": {},
   "outputs": [],
   "source": [
    "# TEST\n",
    "\n",
    "# for _crop_model in crop_models.values():\n",
    "#     crop_model = _crop_model()\n",
    "#     crop_key = crop_model.key\n",
    "#     crop_params = get_default_crop_params(crop_key)\n",
    "#     crop_model.set_parameters(crop_params)\n",
    "#     print(crop_model)"
   ]
  },
  {
   "attachments": {},
   "cell_type": "markdown",
   "id": "c34c7e3f",
   "metadata": {},
   "source": [
    "### 시뮬레이션"
   ]
  },
  {
   "cell_type": "code",
   "execution_count": null,
   "id": "e35ff1b6",
   "metadata": {},
   "outputs": [],
   "source": [
    "from farmdurecore.utils.weather import get_sample_weather_data\n",
    "\n",
    "\n",
    "sample_weather_data = get_sample_weather_data()\n",
    "crop_model.set_weather_data(sample_weather_data)"
   ]
  },
  {
   "cell_type": "code",
   "execution_count": null,
   "id": "1d3f8b41",
   "metadata": {},
   "outputs": [],
   "source": [
    "crop_model.set_start_doy(50)\n",
    "\n",
    "print(crop_model.events)\n",
    "print(crop_model.schedules)\n",
    "print(crop_model.warnings)"
   ]
  },
  {
   "attachments": {},
   "cell_type": "markdown",
   "id": "f67aeaff",
   "metadata": {},
   "source": [
    "### 작물 파라메터 변경"
   ]
  },
  {
   "cell_type": "code",
   "execution_count": null,
   "id": "61e2592c",
   "metadata": {},
   "outputs": [],
   "source": [
    "crop_model.parameters"
   ]
  },
  {
   "cell_type": "code",
   "execution_count": null,
   "id": "fb3656d5",
   "metadata": {},
   "outputs": [],
   "source": [
    "crop_model.update_parameters([\n",
    "    {\n",
    "        'type': 'harvest',\n",
    "        'name': '수확',\n",
    "        'value': [601, 650],\n",
    "        'ranged': True,\n",
    "        'text': '',\n",
    "        'expose_to': ['events', 'schedules']\n",
    "    },\n",
    "    {'type': 'base_temperature', 'value': 10},\n",
    "    {'type': 'gdd_method', 'value': 'm3'}\n",
    "])\n",
    "\n",
    "print(crop_model)\n",
    "print(crop_model.events)\n",
    "print(crop_model.schedules)\n",
    "print(crop_model.warnings)"
   ]
  },
  {
   "cell_type": "code",
   "execution_count": null,
   "id": "ccc466a2",
   "metadata": {},
   "outputs": [],
   "source": []
  }
 ],
 "metadata": {
  "interpreter": {
   "hash": "ba66a616c41e1bc55c5eba670c51bbf3d61e8805730659f6518054edaac0799d"
  },
  "kernelspec": {
   "display_name": "Python 3.9.7 ('doctordure_scheduler')",
   "language": "python",
   "name": "python3"
  },
  "language_info": {
   "codemirror_mode": {
    "name": "ipython",
    "version": 3
   },
   "file_extension": ".py",
   "mimetype": "text/x-python",
   "name": "python",
   "nbconvert_exporter": "python",
   "pygments_lexer": "ipython3",
   "version": "3.8.16"
  },
  "widgets": {
   "application/vnd.jupyter.widget-state+json": {
    "state": {},
    "version_major": 2,
    "version_minor": 0
   }
  }
 },
 "nbformat": 4,
 "nbformat_minor": 5
}
