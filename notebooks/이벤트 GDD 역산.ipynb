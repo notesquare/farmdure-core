{
 "cells": [
  {
   "cell_type": "markdown",
   "id": "21a8bdd1-bf08-4b56-b75a-1d9ce152b559",
   "metadata": {},
   "source": [
    "## 준비"
   ]
  },
  {
   "cell_type": "code",
   "execution_count": null,
   "id": "39b2ee7b-8568-4a7f-906e-c9b5e68fa2ef",
   "metadata": {},
   "outputs": [],
   "source": [
    "from pathlib import Path\n",
    "import sys\n",
    "\n",
    "lib_path = str(Path('../').resolve())\n",
    "sys.path.insert(0, lib_path)\n",
    "lib_path"
   ]
  },
  {
   "cell_type": "code",
   "execution_count": null,
   "id": "e5b37391-f599-465c-a6f2-ea8882030ce8",
   "metadata": {},
   "outputs": [],
   "source": [
    "from crops import CropModels\n",
    "from utils.weather import get_weather_df\n",
    "\n",
    "\n",
    "csv_fp = Path('../../../assets') / 'sample.csv'\n",
    "\n",
    "weather_df = get_weather_df(csv_fp)\n",
    "crop_models = {ModelClass.key: ModelClass for ModelClass in CropModels}\n",
    "\n",
    "for k, v in crop_models.items():\n",
    "    print(f'{v.name}: {k}')"
   ]
  },
  {
   "cell_type": "markdown",
   "id": "b2bfdaff-63b2-4f3c-b721-12e16de41865",
   "metadata": {},
   "source": [
    "## 시작"
   ]
  },
  {
   "cell_type": "code",
   "execution_count": null,
   "id": "4e75ca64-717d-4635-a741-57fa837bc30c",
   "metadata": {},
   "outputs": [],
   "source": [
    "crop_key = \"earlyMatureRice\"  # 여기 선택\n",
    "\n",
    "crop_model = crop_models.get(crop_key)()\n",
    "\n",
    "crop_model.set_weather_data(weather_df)\n",
    "max_gdd = crop_model.gdd_weather_df['tavg_dev'].sum()\n",
    "\n",
    "crop_model.base_temperature"
   ]
  },
  {
   "cell_type": "code",
   "execution_count": null,
   "id": "43fe98a4-b74e-4d37-aab9-2adb01e46efc",
   "metadata": {},
   "outputs": [],
   "source": [
    "import datetime\n",
    "from ipywidgets import interact, IntSlider\n",
    "\n",
    "def doy_to_date(doy):\n",
    "    d = datetime.datetime(2020, 1, 1) + datetime.timedelta(doy - 1)\n",
    "    return f'{d.month}월 {d.day}일'\n",
    "\n",
    "def event_doy(start_doy, gdd):\n",
    "    event_doy = crop_model.get_event_end_doy(start_doy, gdd)\n",
    "\n",
    "    start_date = doy_to_date(start_doy)\n",
    "    end_date = doy_to_date(event_doy)\n",
    "    return f'{crop_model.name}| {start_date}로부터 GDD {gdd}인 날: {end_date}'\n",
    "\n",
    "start_doy = IntSlider(min=1, max=366)\n",
    "gdd = IntSlider(min=0, max=max_gdd)\n",
    "interact(event_doy, start_doy=start_doy, gdd=gdd)"
   ]
  },
  {
   "cell_type": "code",
   "execution_count": null,
   "id": "2a7f2166-8a70-4144-b740-5ea91331e5a7",
   "metadata": {},
   "outputs": [],
   "source": []
  }
 ],
 "metadata": {
  "interpreter": {
   "hash": "ba66a616c41e1bc55c5eba670c51bbf3d61e8805730659f6518054edaac0799d"
  },
  "kernelspec": {
   "display_name": "Python 3.9.7 ('doctordure_scheduler')",
   "language": "python",
   "name": "python3"
  },
  "language_info": {
   "codemirror_mode": {
    "name": "ipython",
    "version": 3
   },
   "file_extension": ".py",
   "mimetype": "text/x-python",
   "name": "python",
   "nbconvert_exporter": "python",
   "pygments_lexer": "ipython3",
   "version": "3.9.7"
  },
  "widgets": {
   "application/vnd.jupyter.widget-state+json": {
    "state": {
     "010aed70359048ea913d488694eaa478": {
      "model_module": "@jupyter-widgets/base",
      "model_module_version": "1.2.0",
      "model_name": "LayoutModel",
      "state": {}
     },
     "5ec31736f5bd42a3b5a53751e3e8c1bb": {
      "model_module": "@jupyter-widgets/controls",
      "model_module_version": "1.5.0",
      "model_name": "IntSliderModel",
      "state": {
       "layout": "IPY_MODEL_010aed70359048ea913d488694eaa478",
       "max": 366,
       "min": 1,
       "style": "IPY_MODEL_996ff3e3eb554493b875e37e47972674",
       "value": 1
      }
     },
     "996ff3e3eb554493b875e37e47972674": {
      "model_module": "@jupyter-widgets/controls",
      "model_module_version": "1.5.0",
      "model_name": "SliderStyleModel",
      "state": {
       "description_width": ""
      }
     }
    },
    "version_major": 2,
    "version_minor": 0
   }
  }
 },
 "nbformat": 4,
 "nbformat_minor": 5
}
