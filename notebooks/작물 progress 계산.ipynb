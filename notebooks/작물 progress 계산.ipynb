{
 "cells": [
  {
   "cell_type": "code",
   "execution_count": null,
   "id": "2a52a1ff-595d-48c9-b521-42f57c6dfffd",
   "metadata": {},
   "outputs": [],
   "source": [
    "from pathlib import Path\n",
    "import sys\n",
    "\n",
    "lib_path = str(Path('../').resolve())\n",
    "sys.path.insert(0, lib_path)\n",
    "lib_path"
   ]
  },
  {
   "cell_type": "code",
   "execution_count": null,
   "id": "5d9895b4-3d6c-4c05-a69d-a2f3d76632e3",
   "metadata": {},
   "outputs": [],
   "source": [
    "from crops import CropModels\n",
    "from utils.weather import get_weather_df\n",
    "\n",
    "\n",
    "weather_df = get_weather_df()\n",
    "crop_models = {ModelClass.key: ModelClass for ModelClass in CropModels}"
   ]
  },
  {
   "cell_type": "code",
   "execution_count": null,
   "id": "318e5ad1",
   "metadata": {},
   "outputs": [],
   "source": [
    "import random\n",
    "\n",
    "random_key = random.choice(list(crop_models))\n",
    "crop_model = crop_models.get(random_key)()\n",
    "crop_model.set_weather_data(weather_df)\n",
    "df = crop_model.gdd_weather_df.copy()\n",
    "crop_model.set_start_doy()\n",
    "\n",
    "starting_cummulative_temperature = df.loc[crop_model.start_doy - 1, 'tavg_dev_cumsum']\n",
    "progress = (df['tavg_dev_cumsum'] - starting_cummulative_temperature) / crop_model.growth_gdd\n",
    "\n",
    "ret = progress\\\n",
    "    .loc[crop_model.start_doy - 1: crop_model.end_doy]\\\n",
    "    .astype('f8')\\\n",
    "    .round(2)\\\n",
    "    .clip(upper=1.)\\\n",
    "    .drop_duplicates(keep='first')\\\n",
    "    .rename('progress')\\\n",
    "    .reset_index()\\\n",
    "    .to_dict('records')\n",
    "\n",
    "print(len(ret), ret[:10])\n"
   ]
  }
 ],
 "metadata": {
  "interpreter": {
   "hash": "ba66a616c41e1bc55c5eba670c51bbf3d61e8805730659f6518054edaac0799d"
  },
  "kernelspec": {
   "display_name": "Python 3.9.7 ('doctordure_scheduler')",
   "language": "python",
   "name": "python3"
  },
  "language_info": {
   "codemirror_mode": {
    "name": "ipython",
    "version": 3
   },
   "file_extension": ".py",
   "mimetype": "text/x-python",
   "name": "python",
   "nbconvert_exporter": "python",
   "pygments_lexer": "ipython3",
   "version": "3.9.7"
  },
  "widgets": {
   "application/vnd.jupyter.widget-state+json": {
    "state": {},
    "version_major": 2,
    "version_minor": 0
   }
  }
 },
 "nbformat": 4,
 "nbformat_minor": 5
}
