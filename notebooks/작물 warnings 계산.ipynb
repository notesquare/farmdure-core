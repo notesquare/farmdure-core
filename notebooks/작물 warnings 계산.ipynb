{
 "cells": [
  {
   "cell_type": "code",
   "execution_count": null,
   "id": "2a52a1ff-595d-48c9-b521-42f57c6dfffd",
   "metadata": {},
   "outputs": [],
   "source": [
    "from pathlib import Path\n",
    "import sys\n",
    "\n",
    "lib_path = str(Path('../').resolve())\n",
    "sys.path.insert(0, lib_path)\n",
    "lib_path"
   ]
  },
  {
   "cell_type": "code",
   "execution_count": null,
   "id": "5d9895b4-3d6c-4c05-a69d-a2f3d76632e3",
   "metadata": {},
   "outputs": [],
   "source": [
    "from crops import CropModels\n",
    "from utils.weather import get_weather_df\n",
    "\n",
    "\n",
    "csv_fp = Path('../../../assets') / 'sample.csv'\n",
    "\n",
    "weather_df = get_weather_df(csv_fp)\n",
    "crop_models = {ModelClass.key: ModelClass for ModelClass in CropModels}\n"
   ]
  },
  {
   "cell_type": "markdown",
   "id": "76f9a176",
   "metadata": {},
   "source": [
    "### 배추\n",
    "  - 한계온도 & 노출일수\n",
    "    - high_extrema_temperature = 30\n",
    "    - high_extrema_exposure_days = 5\n",
    "    - low_extrema_temperature = 5\n",
    "    - low_extrema_exposure_days = 5"
   ]
  },
  {
   "cell_type": "code",
   "execution_count": null,
   "id": "318e5ad1",
   "metadata": {},
   "outputs": [],
   "source": [
    "crop_model = crop_models.get('springCabbage')()\n",
    "\n",
    "crop_model.set_weather_data(weather_df)\n",
    "df = crop_model.gdd_weather_df.copy()\n",
    "\n",
    "crop_model.high_extrema_temperature = 25  # DEV\n",
    "crop_model.low_extrema_temperature = 5  # DEV\n",
    "\n",
    "# 생육한계 최고온도 & 노출일수\n",
    "df['high_extrema_exposure'] = df['tmax'] > crop_model.high_extrema_temperature\n",
    "df['high_extrema_exposure_group'] = df['high_extrema_exposure'].diff(1).cumsum()\n",
    "\n",
    "high_extrema_exposure_doy_ranges = []\n",
    "for idx, group in df.groupby('high_extrema_exposure_group'):\n",
    "    high_extrema_col = group['high_extrema_exposure']\n",
    "\n",
    "    if high_extrema_col.all() \\\n",
    "      and high_extrema_col.count() > crop_model.high_extrema_exposure_days:\n",
    "\n",
    "      high_extrema_exposure_doy_ranges.append(\n",
    "        [group.index[0], group.index[-1]]\n",
    "      )\n",
    "\n",
    "# 생육한계 최저온도 & 노출일수\n",
    "df['low_extrema_exposure'] = df['tmin'] < crop_model.low_extrema_temperature\n",
    "df['low_extrema_exposure_group'] = df['low_extrema_exposure'].diff(1).cumsum()\n",
    "\n",
    "low_extrema_exposure_doy_ranges = []\n",
    "for idx, group in df.groupby('low_extrema_exposure_group'):\n",
    "    low_extrema_col = group['low_extrema_exposure']\n",
    "\n",
    "    if low_extrema_col.all() \\\n",
    "      and low_extrema_col.count() > crop_model.low_extrema_exposure_days:\n",
    "\n",
    "      low_extrema_exposure_doy_ranges.append(\n",
    "        [group.index[0], group.index[-1]]\n",
    "      )"
   ]
  },
  {
   "cell_type": "code",
   "execution_count": null,
   "id": "5dbeb355",
   "metadata": {},
   "outputs": [],
   "source": [
    "display(high_extrema_exposure_doy_ranges)\n",
    "display(low_extrema_exposure_doy_ranges)"
   ]
  },
  {
   "cell_type": "code",
   "execution_count": null,
   "id": "8bc725c8",
   "metadata": {},
   "outputs": [],
   "source": []
  }
 ],
 "metadata": {
  "interpreter": {
   "hash": "ba66a616c41e1bc55c5eba670c51bbf3d61e8805730659f6518054edaac0799d"
  },
  "kernelspec": {
   "display_name": "Python 3.9.7 ('doctordure_scheduler')",
   "language": "python",
   "name": "python3"
  },
  "language_info": {
   "codemirror_mode": {
    "name": "ipython",
    "version": 3
   },
   "file_extension": ".py",
   "mimetype": "text/x-python",
   "name": "python",
   "nbconvert_exporter": "python",
   "pygments_lexer": "ipython3",
   "version": "3.9.7"
  },
  "widgets": {
   "application/vnd.jupyter.widget-state+json": {
    "state": {},
    "version_major": 2,
    "version_minor": 0
   }
  }
 },
 "nbformat": 4,
 "nbformat_minor": 5
}
