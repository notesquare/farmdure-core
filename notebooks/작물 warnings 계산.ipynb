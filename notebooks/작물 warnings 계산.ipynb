{
 "cells": [
  {
   "cell_type": "code",
   "execution_count": null,
   "id": "2a52a1ff-595d-48c9-b521-42f57c6dfffd",
   "metadata": {},
   "outputs": [],
   "source": [
    "from pathlib import Path\n",
    "import sys\n",
    "\n",
    "lib_path = Path('../../').resolve()\n",
    "sys.path.append(str(lib_path))\n",
    "print('lib_path path: ', lib_path)"
   ]
  },
  {
   "cell_type": "code",
   "execution_count": null,
   "id": "5d9895b4-3d6c-4c05-a69d-a2f3d76632e3",
   "metadata": {},
   "outputs": [],
   "source": [
    "import yaml\n",
    "\n",
    "import pandas as pd\n",
    "\n",
    "from cropscheduler.crops import CropModels\n",
    "from cropscheduler.utils.weather import get_weather_df\n",
    "\n",
    "csv_fp =  Path('/Users/yoonsj/Downloads') / 'Untitled.csv'\n",
    "yaml_fp = Path('..') / 'default_parameters.yaml'\n",
    "\n",
    "print(csv_fp.resolve())\n",
    "\n",
    "weather_df = pd.read_csv(csv_fp)\n",
    "with open(yaml_fp, 'r', encoding='utf-8') as f_param:\n",
    "    DEFAULT_PARAMETERS = yaml.load(f_param, Loader=yaml.FullLoader)\n",
    "crop_models = {ModelClass.key: ModelClass for ModelClass in CropModels}\n"
   ]
  },
  {
   "attachments": {},
   "cell_type": "markdown",
   "id": "76f9a176",
   "metadata": {},
   "source": [
    "### 쌀\n",
    "  - 안전출수기\n",
    "    - 출수일 ~ 출수후 40일 동안 평균기온 21 ~ 24 일 것"
   ]
  },
  {
   "cell_type": "code",
   "execution_count": null,
   "id": "461b3fcc",
   "metadata": {},
   "outputs": [],
   "source": [
    "crop_model = crop_models.get('middleLateMatureRice')()\n",
    "crop_model.set_parameters(DEFAULT_PARAMETERS)\n",
    "crop_model.set_weather_data(weather_df)\n",
    "crop_model.set_start_doy()\n",
    "\n",
    "start_doy = crop_model.start_doy\n",
    "end_doy = crop_model.end_doy\n"
   ]
  },
  {
   "cell_type": "code",
   "execution_count": null,
   "id": "f93f313f",
   "metadata": {},
   "outputs": [],
   "source": [
    "df = crop_model.weather_df.copy()\n",
    "ref = crop_model.calculate_first_priority_params()\n",
    "heading_range = ref.get('heading_range')\n",
    "\n",
    "window_size = 40\n",
    "\n",
    "df['tavg_40days'] = 0.5 * (df['tmax'] + df['tmin'])\n",
    "_df = df.groupby('year')\\\n",
    "    .rolling(window_size)\\\n",
    "    .agg({'tavg_40days': 'mean', 'doy': 'min'})\\\n",
    "    .shift(-window_size+1)\n",
    "\n",
    "heading_df = _df.query((\n",
    "    f'doy >= {heading_range[0]} &' \n",
    "    f'doy <= {heading_range[1]}'\n",
    "))\n",
    "\n",
    "safe_heading_df = heading_df.query((\n",
    "    '21 <= tavg_40days & tavg_40days <= 24'\n",
    "))\n",
    "\n",
    "safe_heading_prob = len(safe_heading_df) / len(heading_df) * 100\n",
    "safe_heading_prob = round(safe_heading_prob, 1)\n",
    "safe_heading_prob"
   ]
  },
  {
   "cell_type": "markdown",
   "id": "08aaa94f",
   "metadata": {},
   "source": [
    "### 배추\n",
    "  - 한계온도 & 노출일수\n",
    "    - high_extrema_temperature = 30\n",
    "    - high_extrema_exposure_days = 5\n",
    "    - low_extrema_temperature = 5\n",
    "    - low_extrema_exposure_days = 5"
   ]
  },
  {
   "cell_type": "code",
   "execution_count": null,
   "id": "318e5ad1",
   "metadata": {},
   "outputs": [],
   "source": [
    "crop_model = crop_models.get('springCabbage')()\n",
    "crop_model.set_parameters(DEFAULT_PARAMETERS)\n",
    "crop_model.set_weather_data(weather_df)\n",
    "crop_model.set_start_doy()\n",
    "\n",
    "start_doy = crop_model.start_doy\n",
    "end_doy = crop_model.end_doy\n"
   ]
  },
  {
   "cell_type": "code",
   "execution_count": null,
   "id": "03a68b02",
   "metadata": {},
   "outputs": [],
   "source": [
    "df = crop_model.weather_df.copy()\n",
    "\n",
    "high_extrema_temperature = 25  # DEV\n",
    "low_extrema_temperature = 5  # DEV\n",
    "high_extrema_exposure_days = 5  # DEV\n",
    "low_extrema_exposure_days = 5  # DEV\n"
   ]
  },
  {
   "cell_type": "code",
   "execution_count": null,
   "id": "14f2682b",
   "metadata": {},
   "outputs": [],
   "source": [
    "n_years = n_years = df['year'].nunique()\n",
    "\n",
    "tmax_df = df.copy()[['year', 'doy', 'tmax']].sort_values(['year', 'doy'])\\\n",
    "            .query((f'tmax > {high_extrema_temperature} & '\n",
    "                    f'doy >= {start_doy} & doy <= {end_doy}'))\n",
    "tmax_df['doy_group'] = (tmax_df['doy'].diff(1).fillna(1) != 1).cumsum()\n",
    "tmax_df['too_much_exposure'] = False\n",
    "for _, group in tmax_df.groupby('doy_group'):\n",
    "    if len(group) >= high_extrema_exposure_days:\n",
    "        tmax_df.loc[group.index, 'too_much_exposure'] = True\n",
    "\n",
    "_df = tmax_df.pivot(index='doy', columns='year', values='too_much_exposure').fillna(False).sort_index()\n",
    "tmax_exposure_df = _df.sum(axis=1) / n_years\n",
    "\n",
    "tmax_exposure_df"
   ]
  }
 ],
 "metadata": {
  "interpreter": {
   "hash": "ba66a616c41e1bc55c5eba670c51bbf3d61e8805730659f6518054edaac0799d"
  },
  "kernelspec": {
   "display_name": "Python 3.9.7 ('doctordure_scheduler')",
   "language": "python",
   "name": "python3"
  },
  "language_info": {
   "codemirror_mode": {
    "name": "ipython",
    "version": 3
   },
   "file_extension": ".py",
   "mimetype": "text/x-python",
   "name": "python",
   "nbconvert_exporter": "python",
   "pygments_lexer": "ipython3",
   "version": "3.9.7"
  },
  "widgets": {
   "application/vnd.jupyter.widget-state+json": {
    "state": {},
    "version_major": 2,
    "version_minor": 0
   }
  }
 },
 "nbformat": 4,
 "nbformat_minor": 5
}
